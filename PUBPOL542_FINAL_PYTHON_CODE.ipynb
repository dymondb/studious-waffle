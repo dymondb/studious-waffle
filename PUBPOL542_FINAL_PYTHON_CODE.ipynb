{
  "nbformat": 4,
  "nbformat_minor": 0,
  "metadata": {
    "kernelspec": {
      "display_name": "Python 3",
      "language": "python",
      "name": "python3"
    },
    "language_info": {
      "codemirror_mode": {
        "name": "ipython",
        "version": 3
      },
      "file_extension": ".py",
      "mimetype": "text/x-python",
      "name": "python",
      "nbconvert_exporter": "python",
      "pygments_lexer": "ipython3",
      "version": "3.7.4"
    },
    "colab": {
      "name": "PUBPOL542 FINAL PYTHON CODE.ipynb",
      "provenance": []
    }
  },
  "cells": [
    {
      "cell_type": "markdown",
      "metadata": {
        "id": "m39ttMaKkxp3",
        "colab_type": "text"
      },
      "source": [
        "Here we combine each teammember's data.  We first merge oil production with fossil fuel production."
      ]
    },
    {
      "cell_type": "code",
      "metadata": {
        "id": "ZFdgbhT_kxqE",
        "colab_type": "code",
        "colab": {}
      },
      "source": [
        "import pandas as pd\n",
        "from urllib.request import urlopen\n",
        "\n",
        "#Hailey's Data\n",
        "HFDF = pd.read_pickle(urlopen(\"https://github.com/haileyfagerness/PUBPOL542ProjectData/raw/master/oilData.pkl\"),compression=None)"
      ],
      "execution_count": 0,
      "outputs": []
    },
    {
      "cell_type": "code",
      "metadata": {
        "id": "GS5Pbiizkxsu",
        "colab_type": "code",
        "colab": {}
      },
      "source": [
        "#Brittany's Data\n",
        "BDDF = pd.read_pickle(urlopen(\"https://github.com/haileyfagerness/PUBPOL542ProjectData/raw/master/ciaFFv2.pkl\"),compression=None)"
      ],
      "execution_count": 0,
      "outputs": []
    },
    {
      "cell_type": "code",
      "metadata": {
        "id": "2qGqUL_rkxs3",
        "colab_type": "code",
        "colab": {}
      },
      "source": [
        "#Merge Hailey + Brittany Data\n",
        "HFBD=BDDF.merge(HFDF,how=\"outer\", indicator=True)"
      ],
      "execution_count": 0,
      "outputs": []
    },
    {
      "cell_type": "code",
      "metadata": {
        "id": "0aFq1oS5kxtE",
        "colab_type": "code",
        "outputId": "cbd6d6a9-0dba-4987-a2a2-f04534a845da",
        "colab": {}
      },
      "source": [
        "HFBD.loc[HFBD['_merge']=='left_only',\"Country\"].to_list()"
      ],
      "execution_count": 0,
      "outputs": [
        {
          "output_type": "execute_result",
          "data": {
            "text/plain": [
              "['Afghanistan',\n",
              " 'Algeria',\n",
              " 'American Samoa',\n",
              " 'Andorra',\n",
              " 'Angola',\n",
              " 'Antigua and Barbuda',\n",
              " 'Armenia',\n",
              " 'Aruba',\n",
              " 'Bahamas, The',\n",
              " 'Belgium',\n",
              " 'Benin',\n",
              " 'Bermuda',\n",
              " 'Bhutan',\n",
              " 'Bosnia and Herzegovina',\n",
              " 'Botswana',\n",
              " 'British Virgin Islands',\n",
              " 'Burkina Faso',\n",
              " 'Burma',\n",
              " 'Burundi',\n",
              " 'Cabo Verde',\n",
              " 'Cambodia',\n",
              " 'Cayman Islands',\n",
              " 'Central African Republic',\n",
              " 'Comoros',\n",
              " 'Congo, Republic of the',\n",
              " 'Cook Islands',\n",
              " 'Costa Rica',\n",
              " \"Cote d'Ivoire\",\n",
              " 'Cyprus',\n",
              " 'Czechia',\n",
              " 'Djibouti',\n",
              " 'Dominica',\n",
              " 'Dominican Republic',\n",
              " 'Ecuador',\n",
              " 'El Salvador',\n",
              " 'Equatorial Guinea',\n",
              " 'Eritrea',\n",
              " 'Estonia',\n",
              " 'Eswatini',\n",
              " 'Ethiopia',\n",
              " 'Falkland Islands (Islas Malvinas)',\n",
              " 'Faroe Islands',\n",
              " 'Fiji',\n",
              " 'Finland',\n",
              " 'French Polynesia',\n",
              " 'Gabon',\n",
              " 'Gambia, The',\n",
              " 'Gibraltar',\n",
              " 'Greenland',\n",
              " 'Grenada',\n",
              " 'Guam',\n",
              " 'Guinea',\n",
              " 'Guinea-Bissau',\n",
              " 'Guyana',\n",
              " 'Haiti',\n",
              " 'Honduras',\n",
              " 'Hong Kong',\n",
              " 'Iceland',\n",
              " 'Iran',\n",
              " 'Iraq',\n",
              " 'Ireland',\n",
              " 'Jamaica',\n",
              " 'Jordan',\n",
              " 'Kenya',\n",
              " 'Kiribati',\n",
              " 'Korea, North',\n",
              " 'Korea, South',\n",
              " 'Kosovo',\n",
              " 'Kuwait',\n",
              " 'Laos',\n",
              " 'Latvia',\n",
              " 'Lebanon',\n",
              " 'Lesotho',\n",
              " 'Liberia',\n",
              " 'Libya',\n",
              " 'Luxembourg',\n",
              " 'Macau',\n",
              " 'Madagascar',\n",
              " 'Malawi',\n",
              " 'Maldives',\n",
              " 'Mali',\n",
              " 'Malta',\n",
              " 'Marshall Islands',\n",
              " 'Mauritius',\n",
              " 'Micronesia, Federated States of',\n",
              " 'Moldova',\n",
              " 'Montenegro',\n",
              " 'Montserrat',\n",
              " 'Mozambique',\n",
              " 'Namibia',\n",
              " 'Nauru',\n",
              " 'Nepal',\n",
              " 'New Caledonia',\n",
              " 'Nicaragua',\n",
              " 'Nigeria',\n",
              " 'Niue',\n",
              " 'North Macedonia',\n",
              " 'Panama',\n",
              " 'Paraguay',\n",
              " 'Portugal',\n",
              " 'Puerto Rico',\n",
              " 'Qatar',\n",
              " 'Rwanda',\n",
              " 'Saint Helena, Ascension, and Tristan da Cunha',\n",
              " 'Saint Kitts and Nevis',\n",
              " 'Saint Lucia',\n",
              " 'Saint Pierre and Miquelon',\n",
              " 'Saint Vincent and the Grenadines',\n",
              " 'Samoa',\n",
              " 'Sao Tome and Principe',\n",
              " 'Saudi Arabia',\n",
              " 'Senegal',\n",
              " 'Seychelles',\n",
              " 'Sierra Leone',\n",
              " 'Singapore',\n",
              " 'Slovenia',\n",
              " 'Solomon Islands',\n",
              " 'Somalia',\n",
              " 'South Sudan',\n",
              " 'Sri Lanka',\n",
              " 'Sudan',\n",
              " 'Sweden',\n",
              " 'Switzerland',\n",
              " 'Tanzania',\n",
              " 'Togo',\n",
              " 'Tonga',\n",
              " 'Turks and Caicos Islands',\n",
              " 'Tuvalu',\n",
              " 'Uganda',\n",
              " 'United Arab Emirates',\n",
              " 'Uruguay',\n",
              " 'Vanuatu',\n",
              " 'Venezuela',\n",
              " 'Virgin Islands',\n",
              " 'West Bank',\n",
              " 'Western Sahara',\n",
              " 'Zambia',\n",
              " 'Zimbabwe']"
            ]
          },
          "metadata": {
            "tags": []
          },
          "execution_count": 4
        }
      ]
    },
    {
      "cell_type": "code",
      "metadata": {
        "id": "dwcrB--0kxtg",
        "colab_type": "code",
        "outputId": "affce7dc-696b-43e4-f081-0e995878fb27",
        "colab": {}
      },
      "source": [
        "HFBD.loc[HFBD['_merge']=='right_only',\"Country\"].to_list()"
      ],
      "execution_count": 0,
      "outputs": [
        {
          "output_type": "execute_result",
          "data": {
            "text/plain": [
              "['Saudi Arabia (OPEC)',\n",
              " 'Iraq (OPEC)',\n",
              " 'Iran (OPEC)',\n",
              " 'United Arab Emirates (OPEC)',\n",
              " 'Kuwait (OPEC)',\n",
              " 'Venezuela (OPEC)',\n",
              " 'Nigeria (OPEC)',\n",
              " 'Angola (OPEC)',\n",
              " 'Algeria (OPEC)',\n",
              " 'Libya (OPEC)',\n",
              " 'Ecuador (OPEC)',\n",
              " 'Congo, Republic of the (OPEC)',\n",
              " 'Sudan and South Sudan',\n",
              " 'Equatorial Guinea (OPEC)',\n",
              " 'Gabon (OPEC)',\n",
              " 'Ivory Coast',\n",
              " 'Myanmar',\n",
              " 'Czech Republic']"
            ]
          },
          "metadata": {
            "tags": []
          },
          "execution_count": 5
        }
      ]
    },
    {
      "cell_type": "markdown",
      "metadata": {
        "id": "-cwwZ_I5mMLD",
        "colab_type": "text"
      },
      "source": [
        "Next, we create a dictionary of replacement names for the countries that are the same but have different spellings."
      ]
    },
    {
      "cell_type": "code",
      "metadata": {
        "id": "CA7TVFCQkxtz",
        "colab_type": "code",
        "colab": {}
      },
      "source": [
        "replacements={\n",
        "    'Saudi Arabia (OPEC)':'Saudi Arabia',\n",
        "    'Iraq (OPEC)':'Iraq',\n",
        "    'Iran (OPEC)':'Iran',\n",
        "    'United Arab Emirates (OPEC)':'United Arab Emirates',\n",
        "    'Kuwait (OPEC)':'Kuwait',\n",
        "    'Venezuela (OPEC)':'Venezuela',\n",
        "    'Nigeria (OPEC)':'Nigeria',\n",
        "    'Angola (OPEC)':'Angola',\n",
        "    'Algeria (OPEC)':'Algeria',\n",
        "    'Libya (OPEC)':'Libya',\n",
        "    'Ecuador (OPEC)':'Ecuador',\n",
        "    'Congo, Republic of the (OPEC)':'Congo, Republic of the',\n",
        "    'Sudan and South Sudan':'Sudan',\n",
        "    'Equatorial Guinea (OPEC)':'Equatorial Guinea',\n",
        "    'Gabon (OPEC)':'Gabon',\n",
        "    'Ivory Coast':\"Cote d'Ivoire\",\n",
        "    'Myanmar':'Burma',\n",
        "    'Czech Republic':'Czechia'\n",
        "}\n",
        "\n",
        "HFDF.Country.replace(replacements,inplace=True)"
      ],
      "execution_count": 0,
      "outputs": []
    },
    {
      "cell_type": "code",
      "metadata": {
        "id": "z-1OEXebkxuA",
        "colab_type": "code",
        "colab": {}
      },
      "source": [
        "HFBD=BDDF.merge(HFDF,how=\"outer\")"
      ],
      "execution_count": 0,
      "outputs": []
    },
    {
      "cell_type": "markdown",
      "metadata": {
        "id": "mFpKhltEkxuV",
        "colab_type": "text"
      },
      "source": [
        "For countries that do not produce oil, we replace null values with a 0.  This will be helpful when we run regressions."
      ]
    },
    {
      "cell_type": "code",
      "metadata": {
        "id": "CzvWkRXbkxuW",
        "colab_type": "code",
        "outputId": "9e6aca2c-8ea4-4693-918f-20e16f9f2b5c",
        "colab": {}
      },
      "source": [
        "replace = 0\n",
        "HFBD.loc[pd.isnull(HFBD['OilProduction']), 'OilProduction'] = replace\n",
        "HFBD"
      ],
      "execution_count": 0,
      "outputs": [
        {
          "output_type": "execute_result",
          "data": {
            "text/html": [
              "<div>\n",
              "<style scoped>\n",
              "    .dataframe tbody tr th:only-of-type {\n",
              "        vertical-align: middle;\n",
              "    }\n",
              "\n",
              "    .dataframe tbody tr th {\n",
              "        vertical-align: top;\n",
              "    }\n",
              "\n",
              "    .dataframe thead th {\n",
              "        text-align: right;\n",
              "    }\n",
              "</style>\n",
              "<table border=\"1\" class=\"dataframe\">\n",
              "  <thead>\n",
              "    <tr style=\"text-align: right;\">\n",
              "      <th></th>\n",
              "      <th>Country</th>\n",
              "      <th>fossilFuel_PctTotalElec</th>\n",
              "      <th>OilProduction</th>\n",
              "    </tr>\n",
              "  </thead>\n",
              "  <tbody>\n",
              "    <tr>\n",
              "      <td>0</td>\n",
              "      <td>Afghanistan</td>\n",
              "      <td>0.45</td>\n",
              "      <td>0.0</td>\n",
              "    </tr>\n",
              "    <tr>\n",
              "      <td>1</td>\n",
              "      <td>Albania</td>\n",
              "      <td>0.05</td>\n",
              "      <td>22915.0</td>\n",
              "    </tr>\n",
              "    <tr>\n",
              "      <td>2</td>\n",
              "      <td>Algeria</td>\n",
              "      <td>0.96</td>\n",
              "      <td>1348361.0</td>\n",
              "    </tr>\n",
              "    <tr>\n",
              "      <td>3</td>\n",
              "      <td>American Samoa</td>\n",
              "      <td>0.98</td>\n",
              "      <td>0.0</td>\n",
              "    </tr>\n",
              "    <tr>\n",
              "      <td>4</td>\n",
              "      <td>Andorra</td>\n",
              "      <td>0.61</td>\n",
              "      <td>0.0</td>\n",
              "    </tr>\n",
              "    <tr>\n",
              "      <td>...</td>\n",
              "      <td>...</td>\n",
              "      <td>...</td>\n",
              "      <td>...</td>\n",
              "    </tr>\n",
              "    <tr>\n",
              "      <td>210</td>\n",
              "      <td>West Bank</td>\n",
              "      <td>0.78</td>\n",
              "      <td>0.0</td>\n",
              "    </tr>\n",
              "    <tr>\n",
              "      <td>211</td>\n",
              "      <td>Western Sahara</td>\n",
              "      <td>1.00</td>\n",
              "      <td>0.0</td>\n",
              "    </tr>\n",
              "    <tr>\n",
              "      <td>212</td>\n",
              "      <td>Yemen</td>\n",
              "      <td>0.79</td>\n",
              "      <td>22000.0</td>\n",
              "    </tr>\n",
              "    <tr>\n",
              "      <td>213</td>\n",
              "      <td>Zambia</td>\n",
              "      <td>0.05</td>\n",
              "      <td>0.0</td>\n",
              "    </tr>\n",
              "    <tr>\n",
              "      <td>214</td>\n",
              "      <td>Zimbabwe</td>\n",
              "      <td>0.58</td>\n",
              "      <td>0.0</td>\n",
              "    </tr>\n",
              "  </tbody>\n",
              "</table>\n",
              "<p>215 rows × 3 columns</p>\n",
              "</div>"
            ],
            "text/plain": [
              "            Country  fossilFuel_PctTotalElec  OilProduction\n",
              "0       Afghanistan                     0.45            0.0\n",
              "1           Albania                     0.05        22915.0\n",
              "2           Algeria                     0.96      1348361.0\n",
              "3    American Samoa                     0.98            0.0\n",
              "4           Andorra                     0.61            0.0\n",
              "..              ...                      ...            ...\n",
              "210       West Bank                     0.78            0.0\n",
              "211  Western Sahara                     1.00            0.0\n",
              "212           Yemen                     0.79        22000.0\n",
              "213          Zambia                     0.05            0.0\n",
              "214        Zimbabwe                     0.58            0.0\n",
              "\n",
              "[215 rows x 3 columns]"
            ]
          },
          "metadata": {
            "tags": []
          },
          "execution_count": 8
        }
      ]
    },
    {
      "cell_type": "markdown",
      "metadata": {
        "id": "5hP9P8AQkxup",
        "colab_type": "text"
      },
      "source": [
        "We now merge populaton and GDP with our working data frame."
      ]
    },
    {
      "cell_type": "code",
      "metadata": {
        "id": "ODluv-fvkxur",
        "colab_type": "code",
        "colab": {}
      },
      "source": [
        "# Cecilia + Kathy Data\n",
        "KCDF = pd.read_pickle(urlopen(\"https://github.com/haileyfagerness/PUBPOL542ProjectData/raw/master/KC.pkl\"),compression=None)"
      ],
      "execution_count": 0,
      "outputs": []
    },
    {
      "cell_type": "code",
      "metadata": {
        "id": "tszQ4B-Wkxu2",
        "colab_type": "code",
        "colab": {}
      },
      "source": [
        "TEAMdata=HFBD.merge(KCDF,how=\"outer\",indicator=True)"
      ],
      "execution_count": 0,
      "outputs": []
    },
    {
      "cell_type": "code",
      "metadata": {
        "id": "f2_kisfekxvk",
        "colab_type": "code",
        "outputId": "b21f9c52-8bd3-434e-eb9f-325c884cbaf9",
        "colab": {}
      },
      "source": [
        "TEAMdata.loc[TEAMdata['_merge']=='left_only',\"Country\"].to_list()"
      ],
      "execution_count": 0,
      "outputs": [
        {
          "output_type": "execute_result",
          "data": {
            "text/plain": [
              "['American Samoa',\n",
              " 'Andorra',\n",
              " 'Bermuda',\n",
              " 'British Virgin Islands',\n",
              " 'Burma',\n",
              " 'Cabo Verde',\n",
              " 'Cayman Islands',\n",
              " 'Cook Islands',\n",
              " \"Cote d'Ivoire\",\n",
              " 'Cuba',\n",
              " 'Czechia',\n",
              " 'Falkland Islands (Islas Malvinas)',\n",
              " 'Faroe Islands',\n",
              " 'French Polynesia',\n",
              " 'Gibraltar',\n",
              " 'Greenland',\n",
              " 'Guam',\n",
              " 'Korea, North',\n",
              " 'Kosovo',\n",
              " 'Montserrat',\n",
              " 'New Caledonia',\n",
              " 'Niue',\n",
              " 'Saint Helena, Ascension, and Tristan da Cunha',\n",
              " 'Saint Pierre and Miquelon',\n",
              " 'Sao Tome and Principe',\n",
              " 'Somalia',\n",
              " 'Syria',\n",
              " 'Timor-Leste',\n",
              " 'Turks and Caicos Islands',\n",
              " 'Virgin Islands',\n",
              " 'West Bank',\n",
              " 'Western Sahara']"
            ]
          },
          "metadata": {
            "tags": []
          },
          "execution_count": 11
        }
      ]
    },
    {
      "cell_type": "code",
      "metadata": {
        "id": "E_M73mvlkxvr",
        "colab_type": "code",
        "outputId": "dfe834d6-9c13-427c-909b-a1e0c4d1abc0",
        "colab": {}
      },
      "source": [
        "TEAMdata.loc[TEAMdata['_merge']=='right_only',\"Country\"].to_list()"
      ],
      "execution_count": 0,
      "outputs": [
        {
          "output_type": "execute_result",
          "data": {
            "text/plain": [
              "['Myanmar',\n",
              " 'Czech Republic',\n",
              " 'East Timor',\n",
              " 'Cape Verde',\n",
              " 'São Tomé and Príncipe',\n",
              " 'San Marino',\n",
              " 'Palau']"
            ]
          },
          "metadata": {
            "tags": []
          },
          "execution_count": 12
        }
      ]
    },
    {
      "cell_type": "markdown",
      "metadata": {
        "id": "ufuPIDajmZ2N",
        "colab_type": "text"
      },
      "source": [
        "Next, we again create a dictionary of replacement names for the countries that are the same but have different spellings."
      ]
    },
    {
      "cell_type": "code",
      "metadata": {
        "id": "xSPfXewNkxvx",
        "colab_type": "code",
        "colab": {}
      },
      "source": [
        "replacements2={\n",
        "    'Myanmar':'Burma',\n",
        "    'Czech Republic':'Czechia',\n",
        "    'East Timor':'Timor-Leste',\n",
        "    'Cape Verde':'Cabo Verde',\n",
        "    'São Tomé and Príncipe':'Sao Tome and Principe',\n",
        "}\n",
        "\n",
        "KCDF.Country.replace(replacements2,inplace=True)"
      ],
      "execution_count": 0,
      "outputs": []
    },
    {
      "cell_type": "markdown",
      "metadata": {
        "id": "XOfHEnRpmxGU",
        "colab_type": "text"
      },
      "source": [
        "Next, we commit changes to finalize data frame."
      ]
    },
    {
      "cell_type": "code",
      "metadata": {
        "id": "0Q4lfJ4jkxv5",
        "colab_type": "code",
        "outputId": "2e91b709-e3d1-489a-aad4-fd31dbe90e6a",
        "colab": {}
      },
      "source": [
        "finalData=HFBD.merge(KCDF)\n",
        "finalData"
      ],
      "execution_count": 0,
      "outputs": [
        {
          "output_type": "execute_result",
          "data": {
            "text/html": [
              "<div>\n",
              "<style scoped>\n",
              "    .dataframe tbody tr th:only-of-type {\n",
              "        vertical-align: middle;\n",
              "    }\n",
              "\n",
              "    .dataframe tbody tr th {\n",
              "        vertical-align: top;\n",
              "    }\n",
              "\n",
              "    .dataframe thead th {\n",
              "        text-align: right;\n",
              "    }\n",
              "</style>\n",
              "<table border=\"1\" class=\"dataframe\">\n",
              "  <thead>\n",
              "    <tr style=\"text-align: right;\">\n",
              "      <th></th>\n",
              "      <th>Country</th>\n",
              "      <th>fossilFuel_PctTotalElec</th>\n",
              "      <th>OilProduction</th>\n",
              "      <th>Population</th>\n",
              "      <th>USDollar</th>\n",
              "    </tr>\n",
              "  </thead>\n",
              "  <tbody>\n",
              "    <tr>\n",
              "      <td>0</td>\n",
              "      <td>Afghanistan</td>\n",
              "      <td>0.45</td>\n",
              "      <td>0.0</td>\n",
              "      <td>38041754</td>\n",
              "      <td>513</td>\n",
              "    </tr>\n",
              "    <tr>\n",
              "      <td>1</td>\n",
              "      <td>Albania</td>\n",
              "      <td>0.05</td>\n",
              "      <td>22915.0</td>\n",
              "      <td>2880917</td>\n",
              "      <td>5372</td>\n",
              "    </tr>\n",
              "    <tr>\n",
              "      <td>2</td>\n",
              "      <td>Algeria</td>\n",
              "      <td>0.96</td>\n",
              "      <td>1348361.0</td>\n",
              "      <td>43053054</td>\n",
              "      <td>3980</td>\n",
              "    </tr>\n",
              "    <tr>\n",
              "      <td>3</td>\n",
              "      <td>Angola</td>\n",
              "      <td>0.34</td>\n",
              "      <td>1769615.0</td>\n",
              "      <td>31825295</td>\n",
              "      <td>3037</td>\n",
              "    </tr>\n",
              "    <tr>\n",
              "      <td>4</td>\n",
              "      <td>Antigua and Barbuda</td>\n",
              "      <td>0.97</td>\n",
              "      <td>0.0</td>\n",
              "      <td>97118</td>\n",
              "      <td>18109</td>\n",
              "    </tr>\n",
              "    <tr>\n",
              "      <td>...</td>\n",
              "      <td>...</td>\n",
              "      <td>...</td>\n",
              "      <td>...</td>\n",
              "      <td>...</td>\n",
              "      <td>...</td>\n",
              "    </tr>\n",
              "    <tr>\n",
              "      <td>183</td>\n",
              "      <td>Venezuela</td>\n",
              "      <td>0.51</td>\n",
              "      <td>2276967.0</td>\n",
              "      <td>28515829</td>\n",
              "      <td>2547</td>\n",
              "    </tr>\n",
              "    <tr>\n",
              "      <td>184</td>\n",
              "      <td>Vietnam</td>\n",
              "      <td>0.56</td>\n",
              "      <td>301850.0</td>\n",
              "      <td>96462106</td>\n",
              "      <td>2740</td>\n",
              "    </tr>\n",
              "    <tr>\n",
              "      <td>185</td>\n",
              "      <td>Yemen</td>\n",
              "      <td>0.79</td>\n",
              "      <td>22000.0</td>\n",
              "      <td>29161922</td>\n",
              "      <td>943</td>\n",
              "    </tr>\n",
              "    <tr>\n",
              "      <td>186</td>\n",
              "      <td>Zambia</td>\n",
              "      <td>0.05</td>\n",
              "      <td>0.0</td>\n",
              "      <td>17861030</td>\n",
              "      <td>1307</td>\n",
              "    </tr>\n",
              "    <tr>\n",
              "      <td>187</td>\n",
              "      <td>Zimbabwe</td>\n",
              "      <td>0.58</td>\n",
              "      <td>0.0</td>\n",
              "      <td>14645468</td>\n",
              "      <td>859</td>\n",
              "    </tr>\n",
              "  </tbody>\n",
              "</table>\n",
              "<p>188 rows × 5 columns</p>\n",
              "</div>"
            ],
            "text/plain": [
              "                 Country  fossilFuel_PctTotalElec  OilProduction  Population  \\\n",
              "0            Afghanistan                     0.45            0.0    38041754   \n",
              "1                Albania                     0.05        22915.0     2880917   \n",
              "2                Algeria                     0.96      1348361.0    43053054   \n",
              "3                 Angola                     0.34      1769615.0    31825295   \n",
              "4    Antigua and Barbuda                     0.97            0.0       97118   \n",
              "..                   ...                      ...            ...         ...   \n",
              "183            Venezuela                     0.51      2276967.0    28515829   \n",
              "184              Vietnam                     0.56       301850.0    96462106   \n",
              "185                Yemen                     0.79        22000.0    29161922   \n",
              "186               Zambia                     0.05            0.0    17861030   \n",
              "187             Zimbabwe                     0.58            0.0    14645468   \n",
              "\n",
              "     USDollar  \n",
              "0         513  \n",
              "1        5372  \n",
              "2        3980  \n",
              "3        3037  \n",
              "4       18109  \n",
              "..        ...  \n",
              "183      2547  \n",
              "184      2740  \n",
              "185       943  \n",
              "186      1307  \n",
              "187       859  \n",
              "\n",
              "[188 rows x 5 columns]"
            ]
          },
          "metadata": {
            "tags": []
          },
          "execution_count": 14
        }
      ]
    },
    {
      "cell_type": "code",
      "metadata": {
        "id": "XN126dabkxwD",
        "colab_type": "code",
        "outputId": "2fb74c81-5a3a-49f8-9921-c1890c1ee54b",
        "colab": {}
      },
      "source": [
        "finalData.dtypes"
      ],
      "execution_count": 0,
      "outputs": [
        {
          "output_type": "execute_result",
          "data": {
            "text/plain": [
              "Country                     object\n",
              "fossilFuel_PctTotalElec    float64\n",
              "OilProduction              float64\n",
              "Population                   int64\n",
              "USDollar                     int64\n",
              "dtype: object"
            ]
          },
          "metadata": {
            "tags": []
          },
          "execution_count": 15
        }
      ]
    },
    {
      "cell_type": "markdown",
      "metadata": {
        "id": "uu1kAL34m3QN",
        "colab_type": "text"
      },
      "source": [
        "Last, we save data frame to files that are readable by python and R."
      ]
    },
    {
      "cell_type": "code",
      "metadata": {
        "id": "BqEIl1rtkxwL",
        "colab_type": "code",
        "colab": {}
      },
      "source": [
        "finalData.to_pickle(\"finalData.pkl\")"
      ],
      "execution_count": 0,
      "outputs": []
    },
    {
      "cell_type": "code",
      "metadata": {
        "id": "3s0Uk4nHkxwZ",
        "colab_type": "code",
        "outputId": "784005ae-748b-4795-edaf-b366cc61c762",
        "colab": {}
      },
      "source": [
        "from rpy2.robjects import pandas2ri\n",
        "pandas2ri.activate()\n",
        "\n",
        "from rpy2.robjects.packages import importr\n",
        "\n",
        "base=importr('base')\n",
        "base.saveRDS(finalData, file=\"finalData.RDS\")"
      ],
      "execution_count": 0,
      "outputs": [
        {
          "output_type": "execute_result",
          "data": {
            "text/plain": [
              "rpy2.rinterface.NULL"
            ]
          },
          "metadata": {
            "tags": []
          },
          "execution_count": 17
        }
      ]
    },
    {
      "cell_type": "markdown",
      "metadata": {
        "id": "qnW1vWQSkxwi",
        "colab_type": "text"
      },
      "source": [
        "Below is our final merged data frame, ready to be analyzed using R. "
      ]
    },
    {
      "cell_type": "code",
      "metadata": {
        "id": "nXoqTpMtkxwk",
        "colab_type": "code",
        "outputId": "cb9b906b-06a4-4406-a892-ffc3f7476354",
        "colab": {}
      },
      "source": [
        "finalData"
      ],
      "execution_count": 0,
      "outputs": [
        {
          "output_type": "execute_result",
          "data": {
            "text/html": [
              "<div>\n",
              "<style scoped>\n",
              "    .dataframe tbody tr th:only-of-type {\n",
              "        vertical-align: middle;\n",
              "    }\n",
              "\n",
              "    .dataframe tbody tr th {\n",
              "        vertical-align: top;\n",
              "    }\n",
              "\n",
              "    .dataframe thead th {\n",
              "        text-align: right;\n",
              "    }\n",
              "</style>\n",
              "<table border=\"1\" class=\"dataframe\">\n",
              "  <thead>\n",
              "    <tr style=\"text-align: right;\">\n",
              "      <th></th>\n",
              "      <th>Country</th>\n",
              "      <th>fossilFuel_PctTotalElec</th>\n",
              "      <th>OilProduction</th>\n",
              "      <th>Population</th>\n",
              "      <th>USDollar</th>\n",
              "    </tr>\n",
              "  </thead>\n",
              "  <tbody>\n",
              "    <tr>\n",
              "      <td>0</td>\n",
              "      <td>Afghanistan</td>\n",
              "      <td>0.45</td>\n",
              "      <td>0.0</td>\n",
              "      <td>38041754</td>\n",
              "      <td>513</td>\n",
              "    </tr>\n",
              "    <tr>\n",
              "      <td>1</td>\n",
              "      <td>Albania</td>\n",
              "      <td>0.05</td>\n",
              "      <td>22915.0</td>\n",
              "      <td>2880917</td>\n",
              "      <td>5372</td>\n",
              "    </tr>\n",
              "    <tr>\n",
              "      <td>2</td>\n",
              "      <td>Algeria</td>\n",
              "      <td>0.96</td>\n",
              "      <td>1348361.0</td>\n",
              "      <td>43053054</td>\n",
              "      <td>3980</td>\n",
              "    </tr>\n",
              "    <tr>\n",
              "      <td>3</td>\n",
              "      <td>Angola</td>\n",
              "      <td>0.34</td>\n",
              "      <td>1769615.0</td>\n",
              "      <td>31825295</td>\n",
              "      <td>3037</td>\n",
              "    </tr>\n",
              "    <tr>\n",
              "      <td>4</td>\n",
              "      <td>Antigua and Barbuda</td>\n",
              "      <td>0.97</td>\n",
              "      <td>0.0</td>\n",
              "      <td>97118</td>\n",
              "      <td>18109</td>\n",
              "    </tr>\n",
              "    <tr>\n",
              "      <td>...</td>\n",
              "      <td>...</td>\n",
              "      <td>...</td>\n",
              "      <td>...</td>\n",
              "      <td>...</td>\n",
              "      <td>...</td>\n",
              "    </tr>\n",
              "    <tr>\n",
              "      <td>183</td>\n",
              "      <td>Venezuela</td>\n",
              "      <td>0.51</td>\n",
              "      <td>2276967.0</td>\n",
              "      <td>28515829</td>\n",
              "      <td>2547</td>\n",
              "    </tr>\n",
              "    <tr>\n",
              "      <td>184</td>\n",
              "      <td>Vietnam</td>\n",
              "      <td>0.56</td>\n",
              "      <td>301850.0</td>\n",
              "      <td>96462106</td>\n",
              "      <td>2740</td>\n",
              "    </tr>\n",
              "    <tr>\n",
              "      <td>185</td>\n",
              "      <td>Yemen</td>\n",
              "      <td>0.79</td>\n",
              "      <td>22000.0</td>\n",
              "      <td>29161922</td>\n",
              "      <td>943</td>\n",
              "    </tr>\n",
              "    <tr>\n",
              "      <td>186</td>\n",
              "      <td>Zambia</td>\n",
              "      <td>0.05</td>\n",
              "      <td>0.0</td>\n",
              "      <td>17861030</td>\n",
              "      <td>1307</td>\n",
              "    </tr>\n",
              "    <tr>\n",
              "      <td>187</td>\n",
              "      <td>Zimbabwe</td>\n",
              "      <td>0.58</td>\n",
              "      <td>0.0</td>\n",
              "      <td>14645468</td>\n",
              "      <td>859</td>\n",
              "    </tr>\n",
              "  </tbody>\n",
              "</table>\n",
              "<p>188 rows × 5 columns</p>\n",
              "</div>"
            ],
            "text/plain": [
              "                 Country  fossilFuel_PctTotalElec  OilProduction  Population  \\\n",
              "0            Afghanistan                     0.45            0.0    38041754   \n",
              "1                Albania                     0.05        22915.0     2880917   \n",
              "2                Algeria                     0.96      1348361.0    43053054   \n",
              "3                 Angola                     0.34      1769615.0    31825295   \n",
              "4    Antigua and Barbuda                     0.97            0.0       97118   \n",
              "..                   ...                      ...            ...         ...   \n",
              "183            Venezuela                     0.51      2276967.0    28515829   \n",
              "184              Vietnam                     0.56       301850.0    96462106   \n",
              "185                Yemen                     0.79        22000.0    29161922   \n",
              "186               Zambia                     0.05            0.0    17861030   \n",
              "187             Zimbabwe                     0.58            0.0    14645468   \n",
              "\n",
              "     USDollar  \n",
              "0         513  \n",
              "1        5372  \n",
              "2        3980  \n",
              "3        3037  \n",
              "4       18109  \n",
              "..        ...  \n",
              "183      2547  \n",
              "184      2740  \n",
              "185       943  \n",
              "186      1307  \n",
              "187       859  \n",
              "\n",
              "[188 rows x 5 columns]"
            ]
          },
          "metadata": {
            "tags": []
          },
          "execution_count": 18
        }
      ]
    },
    {
      "cell_type": "code",
      "metadata": {
        "id": "ojzplLo4kxwr",
        "colab_type": "code",
        "colab": {}
      },
      "source": [
        ""
      ],
      "execution_count": 0,
      "outputs": []
    }
  ]
}